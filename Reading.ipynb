{
 "metadata": {
  "language_info": {
   "codemirror_mode": {
    "name": "ipython",
    "version": 3
   },
   "file_extension": ".py",
   "mimetype": "text/x-python",
   "name": "python",
   "nbconvert_exporter": "python",
   "pygments_lexer": "ipython3",
   "version": "3.9.0-final"
  },
  "orig_nbformat": 2,
  "kernelspec": {
   "name": "flow",
   "display_name": "flow",
   "language": "python"
  }
 },
 "nbformat": 4,
 "nbformat_minor": 2,
 "cells": [
  {
   "cell_type": "code",
   "execution_count": 116,
   "metadata": {},
   "outputs": [],
   "source": [
    "import numpy as np\n",
    "import csv\n",
    "import math\n",
    "import pandas as pd"
   ]
  },
  {
   "cell_type": "code",
   "execution_count": 140,
   "metadata": {},
   "outputs": [],
   "source": [
    "df = pd.read_excel(\"HeadlineData.xlsx\")"
   ]
  },
  {
   "cell_type": "code",
   "execution_count": 141,
   "metadata": {},
   "outputs": [
    {
     "output_type": "stream",
     "name": "stdout",
     "text": [
      "<bound method NDFrame.head of         headline_nr                                           headline label\n0                 0  There Were 2 Mass Shootings In Texas Last Week...     N\n1                 1  Will Smith Joins Diplo And Nicky Jam For The 2...     O\n2                 2    Hugh Grant Marries For The First Time At Age 57     O\n3                 3  Jim Carrey Blasts 'Castrato' Adam Schiff And D...     O\n4                 4  Julianna Margulies Uses Donald Trump Poop Bags...     O\n...             ...                                                ...   ...\n150146       150146                                   Complicated Cuba     o\n150147       150147               Your Pets, Eating Ice Cream (PHOTOS)     p\n150148       150148  First Look' Photos That Will Make You Believe ...     p\n150149       150149      Recommendations for Avoiding Toxic Pet Treats     o\n150150       150150   The Best Fast-Food Burger: A HuffPost Deathmatch     o\n\n[2021 rows x 3 columns]>\n"
     ]
    }
   ],
   "source": [
    "df = df.dropna()\n",
    "print(df.head)"
   ]
  },
  {
   "cell_type": "code",
   "execution_count": 142,
   "metadata": {},
   "outputs": [
    {
     "output_type": "stream",
     "name": "stdout",
     "text": [
      "<bound method NDFrame.head of         headline_nr                                           headline label\n0                 0  there were 2 mass shootings in texas last week...     n\n1                 1  will smith joins diplo and nicky jam for the 2...     o\n2                 2    hugh grant marries for the first time at age 57     o\n3                 3  jim carrey blasts 'castrato' adam schiff and d...     o\n4                 4  julianna margulies uses donald trump poop bags...     o\n...             ...                                                ...   ...\n150146       150146                                   complicated cuba     o\n150147       150147               your pets, eating ice cream (photos)     p\n150148       150148  first look' photos that will make you believe ...     p\n150149       150149      recommendations for avoiding toxic pet treats     o\n150150       150150   the best fast-food burger: a huffpost deathmatch     o\n\n[2021 rows x 3 columns]>\n"
     ]
    }
   ],
   "source": [
    "df[\"label\"] = df[\"label\"].str.lower()\n",
    "df[\"headline\"] = df[\"headline\"].str.lower()\n",
    "print(df.head)"
   ]
  },
  {
   "cell_type": "code",
   "execution_count": 143,
   "metadata": {},
   "outputs": [
    {
     "output_type": "stream",
     "name": "stdout",
     "text": [
      "<bound method NDFrame.head of         headline_nr                                           headline label\n0                 0  there were  mass shootings in texas last week ...     n\n1                 1  will smith joins diplo and nicky jam for the  ...     o\n2                 2      hugh grant marries for the first time at age      o\n3                 3  jim carrey blasts castrato adam schiff and dem...     o\n4                 4  julianna margulies uses donald trump poop bags...     o\n...             ...                                                ...   ...\n150146       150146                                   complicated cuba     o\n150147       150147                  your pets eating ice cream photos     p\n150148       150148  first look photos that will make you believe i...     p\n150149       150149      recommendations for avoiding toxic pet treats     o\n150150       150150    the best fast-food burger a huffpost deathmatch     o\n\n[2021 rows x 3 columns]>\n"
     ]
    }
   ],
   "source": [
    "df['headline'] = df['headline'].str.replace(',', '')\n",
    "df['headline'] = df['headline'].str.replace(':', '')\n",
    "df['headline'] = df['headline'].str.replace('.', '')\n",
    "df['headline'] = df['headline'].str.replace(';', '')\n",
    "df['headline'] = df['headline'].str.replace(\"'\", '')\n",
    "df['headline'] = df['headline'].str.replace('?', '')\n",
    "df['headline'] = df['headline'].str.replace('!', '')\n",
    "df['headline'] = df['headline'].str.replace('*', '')\n",
    "df['headline'] = df['headline'].str.replace('(', '')\n",
    "df['headline'] = df['headline'].str.replace(')', '')\n",
    "df['headline'] = df['headline'].str.replace('/', '')\n",
    "df['headline'] = df['headline'].str.replace(\"`\", '')\n",
    "df['headline'] = df['headline'].str.replace(\"´\", '')\n",
    "df['headline'] = df['headline'].str.replace(\"‘\", '')\n",
    "df['headline'] = df['headline'].str.replace(\"’\", '')\n",
    "df['headline'] = df['headline'].str.replace('\\d+', '')\n",
    "print(df.head)"
   ]
  },
  {
   "cell_type": "code",
   "execution_count": 144,
   "metadata": {},
   "outputs": [],
   "source": [
    "df[\"headline\"] = df[\"headline\"].str.split(pat=' ')\n"
   ]
  },
  {
   "cell_type": "code",
   "execution_count": 145,
   "metadata": {},
   "outputs": [
    {
     "output_type": "stream",
     "name": "stdout",
     "text": [
      "<bound method NDFrame.head of         headline_nr                                           headline label\n0                 0  [there, were, , mass, shootings, in, texas, la...     n\n1                 1  [will, smith, joins, diplo, and, nicky, jam, f...     o\n2                 2  [hugh, grant, marries, for, the, first, time, ...     o\n3                 3  [jim, carrey, blasts, castrato, adam, schiff, ...     o\n4                 4  [julianna, margulies, uses, donald, trump, poo...     o\n...             ...                                                ...   ...\n150146       150146                                [complicated, cuba]     o\n150147       150147           [your, pets, eating, ice, cream, photos]     p\n150148       150148  [first, look, photos, that, will, make, you, b...     p\n150149       150149  [recommendations, for, avoiding, toxic, pet, t...     o\n150150       150150  [the, best, fast-food, burger, a, huffpost, de...     o\n\n[2021 rows x 3 columns]>\n"
     ]
    }
   ],
   "source": [
    "print(df.head)"
   ]
  },
  {
   "cell_type": "code",
   "execution_count": 146,
   "metadata": {},
   "outputs": [],
   "source": [
    "dfTraining=df[:1600]\n",
    "dfTesting=df[1600:]"
   ]
  },
  {
   "cell_type": "code",
   "execution_count": 147,
   "metadata": {},
   "outputs": [
    {
     "output_type": "stream",
     "name": "stdout",
     "text": [
      "<bound method NDFrame.head of         headline_nr                                           headline label\n0                 0  [there, were, , mass, shootings, in, texas, la...     n\n1                 1  [will, smith, joins, diplo, and, nicky, jam, f...     o\n2                 2  [hugh, grant, marries, for, the, first, time, ...     o\n3                 3  [jim, carrey, blasts, castrato, adam, schiff, ...     o\n4                 4  [julianna, margulies, uses, donald, trump, poo...     o\n...             ...                                                ...   ...\n108226       108226  [the, seemingly-virtuous, often-dangerous, wor...     o\n108227       108227  [game-changing, plays, from, week, , in, the, ...     o\n108228       108228  [the, art, of, growing, old, how, does, anyone...     p\n108229       108229  [koko, jones, former, percussionist, for, whit...     o\n108230       108230          [can, we, make, people, want, to, change]     o\n\n[1600 rows x 3 columns]>\n<bound method NDFrame.head of         headline_nr                                           headline label\n108231       108231  [my, mother, re-formed, her, rock, band, --, a...     p\n108232       108232  [why, the, story, of, muhammad, alis, rebellio...     p\n108233       108233        [process, rules, are, made, to, be, broken]     p\n108234       108234  [, things, i, didnt, need, to, raise, a, child...     o\n108235       108235  [project, , a, portrait, of, millennial, artis...     o\n...             ...                                                ...   ...\n150146       150146                                [complicated, cuba]     o\n150147       150147           [your, pets, eating, ice, cream, photos]     p\n150148       150148  [first, look, photos, that, will, make, you, b...     p\n150149       150149  [recommendations, for, avoiding, toxic, pet, t...     o\n150150       150150  [the, best, fast-food, burger, a, huffpost, de...     o\n\n[421 rows x 3 columns]>\n"
     ]
    }
   ],
   "source": [
    "print(dfTraining.head)\n",
    "print(dfTesting.head)"
   ]
  },
  {
   "cell_type": "code",
   "execution_count": 126,
   "metadata": {},
   "outputs": [
    {
     "output_type": "error",
     "ename": "IndentationError",
     "evalue": "expected an indented block (<ipython-input-126-542c477e74be>, line 2)",
     "traceback": [
      "\u001b[1;36m  File \u001b[1;32m\"<ipython-input-126-542c477e74be>\"\u001b[1;36m, line \u001b[1;32m2\u001b[0m\n\u001b[1;33m    \u001b[0m\n\u001b[1;37m    ^\u001b[0m\n\u001b[1;31mIndentationError\u001b[0m\u001b[1;31m:\u001b[0m expected an indented block\n"
     ]
    }
   ],
   "source": [
    "def train_naive_bayes(dfTraining):\n",
    "    \n"
   ]
  },
  {
   "cell_type": "code",
   "execution_count": 148,
   "metadata": {},
   "outputs": [
    {
     "output_type": "stream",
     "name": "stdout",
     "text": [
      "0                 there\n1                  will\n2                  hugh\n3                   jim\n4              julianna\n              ...      \n108226              the\n108227    game-changing\n108228              the\n108229             koko\n108230              can\nName: headline, Length: 1600, dtype: object\n"
     ]
    }
   ],
   "source": [
    "Vocabulary =[]\n",
    "print(dfTraining[\"headline\"].str[0])\n",
    "for i in dfTraining[\"headline\"]:\n",
    "    for word in i:\n",
    "        if word in Vocabulary:\n",
    "            continue\n",
    "        else:\n",
    "            Vocabulary.append(word)\n"
   ]
  },
  {
   "cell_type": "code",
   "execution_count": 149,
   "metadata": {
    "tags": [
     "outputPrepend"
    ]
   },
   "outputs": [
    {
     "output_type": "stream",
     "name": "stdout",
     "text": [
      " 'raunchy', 'burning', 'add', 'doctor', 'bodyguard', 'raiding', 'tracy', 'dealer', 'gold', 'louisiana', 'staffer', 'laugh', 'involves', 'hooking', 'spice', 'girl', 'tech', 'startup', 'bosses', 'migrants', 'enter', 'apply', 'filthy', 'favoring', 'steep', 'lance', 'bass', 'able', 'draft', 'articles', 'dwayne', 'hart', 'protestors', 'chart', 'cowards', 'courtiers', 'strivers', 'suck-ups', 'businesses', 'study', 'asks', 'bahamas', 'vacations', 'predators', 'letters', 'postpones', 'steel', 'aluminum', 'tariffs', 'june', 'janice', 'dickinson', 'feel', 'vindicated', 'extorted', 'supporting', 'hanks', 'rita', 'wilson', 'alive', 'charming', 'aced', 'glutton', 'matt', 'stonie', 'eats', 'cupcakes', 'sprinkles', 'verge', 'catch', 'pizza', 'returned', 'fires', 'tapes', 'haunting', 'confused', 'dig', 'supremacists', 'indicted', 'meth', 'kidnapping', 'cases', 'guys', 'pakistans', 'economy', 'helps', 'smash', 'obstacles', 'kemp', 'certificate', 'lists', 'kates', 'cool', 'titles', 'chip', 'gaines', 'joanna', 'put', 'surgeon', 'schooled', 'remix', 'friday', 'deletes', 'instagrams', 'unfollows', 'bleeding', 'through', 'due', 'charter', 'wrote', 'glowing', 'principal', 'jokes', 'telling', 'needs', 'chappelle', 'offense', 'confront', 'discover', 'tiger', 'duffel', 'internalizing', 'islamophobia', 'negative', 'blame', 'string', 'afghanistan', 'including', 'bombings', 'result', 'journalists', 'moscow', 'photos', 'netanyahu', 'disparages', 'agreement', 'hates', 'cursing', 'around', 'contestant', 'proposing', 'boyfriend', 'cartoon', 'whca', 'wouldnt', 'lupita', 'nyongo', 'fill', 'gaping', 'hole', 'rural', 'areas', 'opioids', 'openly', 'actor-singer', 'nakhane', 'defiance', 'survival', 'returning', 'personal', 'greatness', 'bootleg', 'figures', 'false', 'defamatory', 'r', 'canceled', 'performance', 'torched', 'kathy', 'griffin', 'f-bomb', 'reaches', 'medicaid', 'expansion', 'idaho', 'forward', 'repeatedly', 'referred', 'customs', 'enforcement', 'retire', 'kind', 'messes', 'nearly', 'applicants', 'central', 'refugee', 'stranded', 'marco', 'rubio', 'proof', 'tax', 'demands', 'whatsapp', 'co-founder', 'simpsons', 'apu', 'offended', 'rest', 'cnns', 'ana', 'navarro', 'acting', 'snowflakes', 'editor', 'following', 'victorias', 'lingerie', 'cowabunga', 'brazilian', 'rodrigo', 'koxa', 'surfing', '-foot', 'wave', 'wealthy', 'couple', 'enslaving', 'young', 'aidy', 'bryant', 'married', 'surprises', 'nephew', 'clergy', 'stories', 'library', 'stinky', 'fruit', 'mistaken', 'gas', 'mysterious', 'yellowstone', 'geyser', 'eruptions', 'stump', 'associations', 'queen', 'ada', 'vox', 'eliminated', 'liked', 'cracks', 'moved', 'conference', 'unjust', 'off-target', 'perfectly', 'avengers\\xa0by', 'revealing', 'burns', 'comic', 'needing', 'write', 'bernardo', 'bertolucci', 'ridley', 'ashamed', 'replacing', 'spacey', 'aggretsuko', 'workplace', 'rage', 'rogen', 'franco', 'dncs', 'claiming', 'admiration', 'emma', 'gonzalez', 'sasha', 'cardi', 'offset', 'nsyncs', 'breakup', 'according', 'bandmates', 'doubles', 'chikesia', 'clemons', 'stock', 'lied', 'minors', 'sums', 'phrase', 'seoul', 'transparency', 'dismantling', 'british', 'amber', 'rudd', 'spain', 'cleared', 'continues', 'tester', 'gop-led', 'credibility', 'hypocrisy', 'vulgarity', 'pussy', 'friedkins', 'faith', 'exorcisms', 'unwavering', 'snags', 'enquirer', 'terminates', 'moon', 'rover', 'lunar', 'exploration', 'convict', 'rapist', 'guard', 'nationalist', 'arrives', 'reids', 'defenders', 'praise', '—', 'ignore', 'apparent', 't-mobile', 'acquire', 'sprint', 'billion', 'criticism', 'attacked', 'hispanics', 'demanding', 'photobombs', 'alfie', 'evans', 'gravely', 'ill', 'toddler', 'died', 'palestinian', 'israeli', 'forces', 'evil', 'genius', 'avoid', 'spoilers', 'fifa', 'cites', 'ethics', 'threatening', 'reid', 'maga', 'must', 'start', 'penalizing', 'liars', 'teigens', 'shower', 'kremlin', 'paddleboarder', 'straight-up', 'wrecked', 'dolphin', 'paralympians', 'tweeters', 'celebrate', 'ed', 'strangest', 'holiday', 'shaquem', 'one-handed', 'quit', 'morning', 'amusing', 'lea', 'michele', 'engagement', 'zandy', 'reich', 'confronts', 'dear', 'summer', 'rebuilding', 'detroit', 'trapped', 'frances', 'delayed', 'rogue', 'rescued', 'hiding', 'sends', 'offensive', 'triggered', 'rival', 'lyft', '\"hell\"', 'matter', 'bannon', 'anti-immigrant', 'veep', 'dossier', 'vacation', 'spots', 'oreilly', 'booed', 'proposal', 'science', 'classrooms', 'kansas', 'millions', 'non-citizens', 'voted', 'two', 'outed', 'teammate', 'apologizes', 'spicer', 'shifted', 'positions', 'capital', 'scraps', 'sanctuary', 'label', 'invoke', 'rushes', 'affairs', 'compared', 'fewer', 'case', 'greatest', 'battles', 'heroes', 'series', 'tyrant', 'abraham', 'lincoln', 'granted', 'waiver', 'lobbying', 'utah', 'brothers', 'billboards', 'jason', 'chaffetz', 'remembered', 'defender', 'glenn', 'beck', 'certain', 'sun', 'beast', 'earned', 'trailblazing', 'suspicious', 'styles', 'debut', 'probst', 'condemns', 'contestants', 'outing', 'involve', 'eataly', 'leonardo', 'da', 'vincis', 'supper', 'column', 'publishes', 'okay', 'defund', 'bullets', 'narrowly', 'missing', 'steelers', 'owner', 'rooney', 'disarms', 'attacker', 'london', 'dramatic', 'struggle', 'arrangement', 'expose', 'darker', 'sheeran', 'bar', 'galway', 'pink', 'sweetest', 'breastfeeding', 'hike', 'kendall', 'whole', 'pepsi', 'debacle', 'dao', 'dragged', 'suffered', 'broken', 'nose', 'teeth', 'gaming', 'app', 'comfortable', 'hospitals', 'factors', 'drive', 'shift', 'san', 'bernardino', 'stay', 'solutions', 'knee-jerk', 'reaction', 'created', 'healthy', 'advance', 'directive', 'colombians', 'fed', 'everyone', 'raise', '-', 'mini-surge', 'happened', 'stockholm', 'terrorist', 'overcomes', 'fear', 'strategy', 'discrimination', 'asian', 'admissions', 'success', 'secrets', 'psychologist', 'addis', 'ababa', 'landfill', 'tragedy', 'tip', 'iceberg', 'distracted', 'safest', 'class', 'sorority', 'campus', 'shame', 'america-first', 'considers', 'soda', 'precipice', 'east', 'corporate', 'sponsorship', 'shameful', 'rather', 'warrior', 'baseball', 'commissioner', 'luck', 'cronies', 'disrupt', 'plans', 'kenyatta', 'ac', 'hinkle', 'anti-schutz', 'falkland', 'veterans', 'buenos', 'aires', 'combatting', 'ignorance', 'carolina', 'gonzaga', 'ncaa', 'championship', 'freeze', 'terrorized', 'destroy', 'fabric', 'drink', 'probiotic', 'gut', 'bacteria', 'hn', 'bird', 'flu', 'epidemic', 'local', 'prague', 'czech', 'survive', 'bipolar', 'apocalypse', 'body', 'positive', 'mantras', 'postpartum', 'mama', 'needed', 'shadow', 'cabinet', 'jaymes', 'mansfield', 'centennial', 'jeannette', 'rankin', 'elected', 'autism', 'lessons', 'textbook', 'aftermath', 'colombias', 'deadly', 'floods', 'cancer', 'awkward', 'nikki', 'haley', 'whenever', 'syrian-american', 'hijabi', 'cuban', 'clueless', 'collude', 'game-winning', 'vs', 'uconn', 'dak', 'prescott', 'idiocracy', 'paradigm', 'fools', 'rounded', 'chechnya', 'homeowner', 'murder', 'intruder', 'targets', 'traffickers', 'carbon', 'monoxide', 'pool', 'hospitalized', 'rikers', 'guy', 'rohingya', 'rebel', 'aung', 'suu', 'kyi', 'unless', 'protects', 'minority', 'protester', 'sacked', 'paraguay', 'trudeau', 'rematch', 'elementary', 'islamic', 'second-in-command', 'seeks', 'u-turn', 'constituents', 'heckle', 'evidence', 'april', 'at&t', 'comcast', 'policies', 'early', 'voting', 'bodes', 'jon', 'ossoff', 'keeping', 'stake', 'dc', 'filings', 'assaulting', 'lent', 'staffers', 'finances', 'detailed', 'disclosures', 'joked', 'excited', 'escalates', 'sparkles', 'version', 'rihannas', 'diamonds', 'pop', 'art', 'pioneer', 'rosenquist', 'skewer', 'skipping', 'signing', 'picking', 'apart', 'aclus', 'mission', 'understands', 'jane', 'goodall', 'belittle', 'skips', 'reporters', 'flynn', 'jost', 'improve', 'mississippi', 'pulls', '-game', 'streak', 'pollution', 'links', 'chelsea', 'belgians', 'pets', 'exxonmobil', 'censor', 'all-male', 'douchebag', 'screw', 'whitewater', 'regal', 'cinemas', 'rollercoaster', 'animation', 'mitt', 'romney', 'discuss', 'dropping', 'wasserman', 'schultz', 'value', 'dollar', 'every\\xa0state', 'true', 'independents', 'speak', 'abandon', 'festivals', 'glaring', 'exxons', 'future', 'learned', 'lgbt', 'lewis', 'yells', 'annoying', 'roommate', 'rift', 'warren', 'figure', 'uniting', 'signed', 'designed', 'deprive', 'tens', 'gee', 'antibiotics', 'huffpollster', 'bernie', 'presidential', 'johnny', 'depp', 'ruff', 'suddenly', 'tied', 'polls', 'widely', 'reviled', 'demagogue', 'legislation', 'puerto', 'rico', 'manage', 'crippling', 'debt', 'jay', 'z', 'sip', 'beyoncés', 'lemonade', 'likes', 'inspector', 'sharply', 'criticizes', 'practices', 'sounded', 'robot', 'overwhelming', 'barriers', 'successful', 'craig', 'sager', 'embodiment', 'perseverance', 'elizabeth', 'unite', 'divided', 'airports', 'moms', 'hathaway', 'mic', 'greyhound', 'tired', '-week', 'opposes', 'penalty', 'dylann', 'roof', 'choices', 'playing', 'whod', 'francisco', 'ers', 'carolinas', 'anti-queer', 'rise', 'mask', 'steph', 'looked', 'human', 'wild', 'falling', 'short', 'gender', 'equality', 'silicon', 'valley', 'gawker', 'once', 'pitbulls', 'cuddle', 'experts', 'oregon', 'fraternity', 'trashing', 'lake', 'shasta', 'stray', 'puppy', 'univision', 'anchor', 'speaking', 'mentioning', 'theaters', 'koch-funded', 'efforts', 'crashing', 'forged', 'document', 'complicates', 'growing', 'monument', 'designation', 'shareholders', 'starting', 'oil', 'multitasking', 'drug', 'ivy', 'league', 'mckinnons', 'bike', 'italian', 'texan', 'posted', 'beatbox', 'vietnams', 'hip', 'hop', 'poets', 'heartbreakingly', 'kyle', 'distorted', 'making', 'server', 'hacker', 'exposed', 'pleads', 'sing', 'mmmbop', 'dothraki', 'mold', 'hulk', 'hogan', 'paisley', 'ditty', 'hurt', 'cameras', 'louisianas', 'blue', 'killers', 'redundant', 'carrying', 'stylish', 'backpacks', 'impact', 'platform', 'deputies', 'caught', 'language', 'trayvon', 'martin', 'singles', 'looking', 'bismack', 'biyombo', 'unlikely', 'answer', 'raptors', 'draymond', 'intentionally', 'thunder', 'overexposed', 'ultimate', 'guide', 'patricks', 'chipotle', 'slashed', 'food-safety', 'cookie', 'feelings', 'oppose', 'disick', 'doppelgänger', 'criticize', 'raids', 'tense', 'zero', 'assaulted', 'disabled', 'credit', 'rating', 'agencies', 'nonprofits', 'piazza', 'come', 'mets', 'solution', 'rey', 'dolls', 'section', 'hub', 'sharks', 'follow', 'noses', 'prey', 'clusterf#$k', 'viral', 'officer', 'vh', 'soul', 'original', 'programming', 'forgive', 'missouri', 'redefines', 'hot', 'lobbyist-on-lawmaker', 'prosecutor', 'unarmed', 'baz', 'luhrmann', 'hip-hop', 'babys', 'umbilical', 'wallace', 'debate-moderating', 'snoop', 'hopefully', 'feels', 'gone', 'ballistic', '\"new', 'hampshire\"', 'granite', 'army', 'data', 'joined', 'poverty', 'judith', 'kaye', 'yorks', 'highest', 'hooks', 'fashion', 'beyoncé', 'join', 'coldplay', 'bowl', 'halftime', 'jeb', 'revoke', 'cosbys', 'medal', 'stricklands', 'widow', 'beautiful', 'telescope', 'lebron', 'rick', 'snyder', 'ducks', 'flints', 'footage', 'pill', 'feminist', 'spooky', 'pregnancy', 'surreal', 'stubhub', 'screwing', 'kobe', 'native', 'sink', 'messenger', 'boasts', 'scores', 'dual', 'chick-fil-as', 'valet', 'table', 'lynch', 'harveys', 'gaffe', 'peoples', 'kangaroo', 'small', 'awesome', '#deardebbie', 'complacent', 'reproductive', 'billy', 'joel', 'impromptu', 'doo-wop', 'contribute', 'womens', 'rice', 'jury', 'testimony', 'semi-exclusive', 'occupier', 'horse', 'lay', 'parking', 'volunteer', 'shouted', 'anti-gay', 'explain', 'lottery', 'christmas', 'overweight', 'daddy', 'tanners', 'fuller', 'packages', 'lethal', 'delicious', 'groomsmens', 'cars', 'homes', 'failed', 'showrunner', 'bone', 'handsome', 'admire', 'reflection', 'mirror', 'marijuana', 'begins', 'hashtag', 'erotic', 'fanfic', 'simple', 'motivation', 'macys', 'awakens', 'nancy', 'pelosi', 'mortal', 'danger', 'progressives', 'debbie', 'dnc', 'chair', 'file', 'wrongful', 'tuxedo', 'cats', 'patchy', 'fur', 'questioned', 'pebble', 'detect', 'brilliant', 'smartwatches', 'entertainment', 'craze', 'hockey', 'freezes', 'lynn', 'westmoreland', 'guinea', 'pig', 'diva', 'quentin', 'tarantino', 'cement', 'accepting', 'ritual', 'tremendously', 'twee', 'homage', 'imaginary', 'punts', 'cybersecurity', 'rookie', 'showcases', 'indomitable', 'spirit', 'legendary', 'silent', 'decapitating', 'overcame', 'apartheid', 'almost', 'forgotten', 'narrowing', 'osbourne', 'comment', 'kristen', 'stewart', 'jesse', 'eisenberg', 'tackle', 'harrowing', 'weight', 'autopsy', 'zachary', 'hammond', 'rr', 'training', 'camp', 'instead', 'books', 'accidentally', 'batboy', 'tragic', 'jonas', 'capitol', 'gyrocopter', 'landing', 'premieres', 'wait', 'unmask', 'shadowy', 'payday', 'lenders', 'redirected', 'abstinence-only', 'epps', 'dealing', 'non-lion-hunting', 'dentist', 'lion-hunting', 'sign', 'rails', 'deregulate', 'wake', 'bed', 'literally', 'kick', 'ronda', 'rouseys', '-second', 'bethe', 'correia', 'rainbow', 'serve', 'style', 'treated', 'unfairly', 'raven-symoné', 'raven', 'reunion', 'detective', 'drinking', 'games', 'uncanny', 'ability', 'sense', 'frailty', 'escaped', 'inmate', 'richard', 'drunk', 'ex', 'grandma', 'marcus', 'mariota', 'mid-breakfast', 'mara', 'quite', 'hedwig', 'dip', 'taye', 'diggs', 'title', 'locked', 'archdiocese', 'deliver', 'petitions', 'harts', 'surviving', 'decades', 'siri', 'voicemails', 'lender', 'sued', 'consumers', 'californians', 'restored', 'gay-friendly', 'smarter', 'shelton', 'miranda', 'lambert-divorce', 'loyalty', 'confounds', 'arnold', 'scaasi', 'designer', 'drugs', 'yard', 'circus', 'tent', 'collapses', 'hampshire', 'piggy', 'kermit', 'mois', 'stardom', 'rhinos', 'hunters', '-hour', 'balloon', 'handcuffed', 'christie', 'wed', 'col-bears', 'purportedly', 'hitchbots', 'demise', 'potter', 'mashup', 'fights', 'hammers', 'wasting', 'amounts', 'lena', 'dunham', 'surfer', 'paddleboard', 'baltimore', 'curb', 'shutter', 'seeking', 'exploit', 'identity', 'football', 'ray', 'heroic', 'skunk', 'same', 'ducklings', 'cgi', 'realize', 'covers', 'squad', 'lindsey', 'graham', 'monica', 'lewinsky', 'avoiding', 'exercise', 'backfire', 'nba', 'impersonator', 'routine', 'fate', 'huffington', 'hiring', 'associate', 'understanding', 'negotiation', 'bottoms', 'driver', 'sitting', 'pantless', 'whisky', 'bottle', 'pre-announcement', 'phase', 'advocates', 'assuage', 'fears', 'uva', 'banning', 'frat', 'buried', 'humane', 'society', 'sprints', 'workout', 'burn', 'fat', 'examining', 'legitimacy', 'coaches', 'halloween', 'means', 'anti-immigration', 'absolutely', 'treat', 'parenting', 'calm', 'spook-tacular', 'rainforests', 'leo', 'dicaprio', '%', 'energy', 'hotels', 'legislatures', 'engaging', 'latinos', 'october', 'breast', 'creepy', 'catcall', 'damn', 'piece', 'curse', 'jerks', 'cannot', 'skinny', 'jeans', 'libya', 'prioritizes', 'taco', 'standard', 'poor', 'rises', 'pundit', 'gargantuan', 'boundaries', 'indias', 'manager', 'cli-fi', 'big-money', 'corporations', 'seek', 'wholly-owned', 'subsidiary', 'kurdish', 'soccer', 'swedish', 'fa', 'ire', 'kobani', 'tcu', 'deserve', 'refuses', 'compliments', 'broadways', 'remains', 'giants', 'champions', 'thinking', 'hal', 'serious', 'sitcoms', 'parcel', 'danielle', 'krysa', 'citizenship', 'weather', 'channel', 'um', 'warming', 'gainful', 'employment', 'weak', 'predatory', 'remain', 'ropes', 'learning', 'disabilities', 'shots', 'youll', 'guess', 'upside', 'thoroughly', 'rotten', 'corrupt', 'hong', 'kongs', 'doug', 'ose', 'dirty', 'bera', 'ca-', 'awf', 'empowering', 'africans', 'guardians', 'us-backed', 'syrian', 'rebels', 'pleas', 'unanswered', 'ebolaphobia', 'whats', 'letting', 'billionaires', 'tensions', 'flare', 'illinois', 'chickensht', 'recession', 'hurting', 'millennials', 'multi-ethnic', 'bosnia', 'culturally-insensitive', 'x', 'reverse', 'horizontally', 'vertically', 'nowhere', 'starts', 'childhood', 'check', 'ghoul', 'bb', 'content', 'verizon', 's', 'cash', 'forge', 'partnership', 'isis', 'us-iran', 'relations', 'stanford', '@', 'measure', 'drug-test', 'draws', 'backlash', 'coalition', 'ivf', 'confessions', 'egg', 'freezing', 'e', 'judging', 'costumes', 'appointment', 'shia', 'militiaman', 'antares', 'rocket', 'failure', 'engines', 'casually', 'fearless', 'natural', 'entrepreneurs', 'quarantined', 'salads', 'calories', 'mutual', 'selection', 'process', 'scariest', 'malala', 'yousafzi', 'inspire', 'fall', 'sometimes', 'spina', 'bifida', 'awareness', 'trick-or-treating', 'rich', 'neighborhood', 'blank', 'intrusion', 'dakotas', 'disguised', 'personhood', 'jogging', 'rain', 'sure', 'pharisees', 'preached', 'sin', 'innocence', 'harassers', 'craigslist', 'vet-to-vet', 'works', 'longevity', 'chalk', 'mind', 'banding', 'exorcists', 'showing', 'possessed', 'jose', 'canseco', 'hand', 'trouble', 'stroke', 'meansmovies', 'superstorm', 'resilient', 'faster', 'ebola', 'friendship', 'begat', 'iconic', 'fever', 'hbo', 'tags', 'youtube', 'anticipation', 'banksy', 'royals', 'honors', 'cardinals', 'toygodd', 'attends', 'exact', 'gallerys', 'saw', 'honest', 'stark', 'biases', 'boogyman', 'rio', 'adds', 'bruno', 'mars', 'lineup', 'instructive', 'capers', 'genetic', 'transform', 'seclusion', 'rooms', 'marine', 'corps', 'marathon', 'divine', 'wife-beating', 'three', 'gods', 'wrath', 'burka', 'avenger', 'polio', 'remembering', 'brady', 'warden', 'blown', 'norwegian', 'anybody', 'dare', 'either', 'bachelor', 'scarily', 'similar', 'hunger', 'filmmaker', 'judy', 'irving', 'pelican', 'malpractice', 'caps', 'seniors', 'second-class', 'citizens', 'navigate', 'acupuncture', 'cherishing', 'nightcrawler', 'exploring', 'culinary', 'northwest', 'stanton', 'chef', 'heathman', 'pre-show', 'nkotb', 'connect', 'wisdom', 'hawkeye', 'pierce', 'setting', 'gesture', 'melts', 'tons', 'arctic', 'remind', 'lingering', 'break-ups', 'career', 'flip-flops', 'zombies', 'truth', 'beheaded', 'jumped', 'consultants', 'unrest', 'turkey', 'legs', 'pudding', 'pops', 'post-', 'international', 'focus', 'enabling', 'sustainable', 'percent', 'tenacious', 'ds', 'reigns', 'appeal', 'ghost', 'milton', 'friedman', 'materializes', 'endorses', 'price', 'diabetes', 'tuberculosis', 'worldwide', 'alzheimers', 'journal', 'limb', 'onto', 'brittany', 'maynards', 'legalize', 'physician-assisted', 'presentness', 'lund', 'airfare', 'armisen', 'ice-t', 'kindness', 'attractive', 'artists', 'honey', 'dire', 'environmental', 'warning', 'conceiving', 'chosen', 'canadian', 'polar', 'bear', 'treats', 'reduces', 'duck', 'confit', 'carpe', 'diem', 'oprah', 'slow', 'cycle', 'pediatric', 'brain', 'tumor', 'opportunities', 'gratitude', 'boarding', 'hours', '|', 'goldman', 'sachs', 'carmen', 'segarra', 'yoga', 'orphaned', 'abandoned', 'india', 'courage', 'crime', 'crises', 'ferguson', 'demonstrations', 'fetish', 'models', 'waist', 'inches', 'beats', 'claw', 'malik', 'yoba', 'thriving', 'samhain', 'decade', 'gentleman', 'angela', 'simmons', 'boss', 'yourself', 'overseas', 'treating', 'critical', 'nurse', 'detox', 'allows', 'individuals', 'create', 'brains', 'among', 'oldest', 'rejected', 'turkeys', 'inouye', 'revelation', 'herring', 'trend', 'spotting', 'trends', 'builds', 'futures', 'cherished', 'memories', 'relate', 'nice', 'communication', 'richest', 'countries', 'weve', 'barhoppers', 'layover', 'citizenfour', 'lovers', 'haters', 'birthquakes', 'detected', 'computer', 'bp', 'tone', 'p', 'scientist', 'investigator', 'prostitution', 'volunteers', 'unit', 'explodes', 'shortly', 'lift-off', 'upholds', 'boehner', 'gops', 'doris', 'duke', 'norton', 'simon', 'kindred', 'spirits', 'blind', 'compassion', 'dwi', 'bruce', 'fond', 'farewell', 'flow', 'hodak', 'cofounder', 'zinepak', 'connecting', 'authentic', 'self', 'guru', 'meir', 'ezra', '\"good', 'people\"', 'pictures', 'handheld', 'thermometer', 'western', 'alabanians', 'red-carded', 'drone-goal', 'noahs', 'ark', 'encounters', 'irawniq', 'disease', 'booth', 'etiquette', 'peeves', 'sells', 'los', 'angeles', '$m', 'futurist', 'prediction', 'virtual', 'seemingly-virtuous', 'often-dangerous', 'game-changing', 'master', 'koko', 'percussionist', 'steps']\n"
     ]
    }
   ],
   "source": [
    "print(Vocabulary)"
   ]
  },
  {
   "cell_type": "code",
   "execution_count": null,
   "metadata": {},
   "outputs": [],
   "source": []
  }
 ]
}